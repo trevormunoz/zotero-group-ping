{
 "cells": [
  {
   "cell_type": "markdown",
   "metadata": {},
   "source": [
    "# Poll Zotero Group Library\n",
    "\n",
    "Created on: 2019-06-28\n",
    "\n",
    "Revised on: 2019-07-06"
   ]
  },
  {
   "cell_type": "code",
   "execution_count": 1,
   "metadata": {},
   "outputs": [],
   "source": [
    "import os\n",
    "import datetime\n",
    "import markdown\n",
    "from pyzotero import zotero"
   ]
  },
  {
   "cell_type": "markdown",
   "metadata": {},
   "source": [
    "Set up the zotero connection …"
   ]
  },
  {
   "cell_type": "code",
   "execution_count": 2,
   "metadata": {},
   "outputs": [],
   "source": [
    "%load_ext dotenv\n",
    "%dotenv\n",
    "\n",
    "zot = zotero.Zotero(os.environ.get('ZOTERO_GROUP_ID'), 'group', os.environ.get('ZOTERO_API_KEY'))"
   ]
  },
  {
   "cell_type": "markdown",
   "metadata": {},
   "source": [
    "Grab the whole contents of the library at once"
   ]
  },
  {
   "cell_type": "code",
   "execution_count": 3,
   "metadata": {},
   "outputs": [],
   "source": [
    "lib_contents = zot.everything(zot.top())"
   ]
  },
  {
   "cell_type": "markdown",
   "metadata": {},
   "source": [
    "Setup some datetimes:"
   ]
  },
  {
   "cell_type": "code",
   "execution_count": 4,
   "metadata": {},
   "outputs": [],
   "source": [
    "runtime = datetime.datetime.now()"
   ]
  },
  {
   "cell_type": "markdown",
   "metadata": {},
   "source": [
    "For this we will look at a two-week window …"
   ]
  },
  {
   "cell_type": "code",
   "execution_count": 5,
   "metadata": {},
   "outputs": [],
   "source": [
    "window = runtime - datetime.timedelta(weeks=2)"
   ]
  },
  {
   "cell_type": "code",
   "execution_count": 6,
   "metadata": {},
   "outputs": [
    {
     "data": {
      "text/plain": [
       "datetime.datetime(2019, 6, 22, 15, 14, 22, 478804)"
      ]
     },
     "execution_count": 6,
     "metadata": {},
     "output_type": "execute_result"
    }
   ],
   "source": [
    "window"
   ]
  },
  {
   "cell_type": "code",
   "execution_count": 7,
   "metadata": {},
   "outputs": [],
   "source": [
    "def grab_dates(dict):\n",
    "    \"\"\"\n",
    "    Pull the added and modified dates out of the metadata returned by the zotero client (a dictionary)\n",
    "    Give back a tuple with just the date values as datetime objects\n",
    "    \"\"\"\n",
    "    format_str = '%Y-%m-%dT%H:%M:%SZ'\n",
    "    add_date = datetime.datetime.strptime(dict['data']['dateAdded'], format_str)\n",
    "    mod_date = datetime.datetime.strptime(dict['data']['dateModified'], format_str)\n",
    "    \n",
    "    return (add_date, mod_date)"
   ]
  },
  {
   "cell_type": "code",
   "execution_count": 8,
   "metadata": {},
   "outputs": [],
   "source": [
    "from collections import defaultdict\n",
    "\n",
    "entries = defaultdict(list)\n",
    "\n",
    "for i in lib_contents:\n",
    "    added,modified = grab_dates(i)\n",
    "    if modified > window:\n",
    "            zot_url = f\"https://www.zotero.org/groups/{os.environ.get('ZOTERO_GROUP_ID')}/community-centered_collections/items/itemKey/{i['data']['key']}\"\n",
    "            item_data = i['data']\n",
    "            \n",
    "            # Add extra code for collection-level notes\n",
    "            if item_data['itemType'] == 'note':\n",
    "                info_string = f\"*[Note: {item_data['note'].strip()}]({zot_url})*\"\n",
    "            else:\n",
    "                info_string = f\"[{item_data['title']}]({zot_url})\"\n",
    "                                                       \n",
    "            entries[datetime.datetime.strftime(modified, '%B %-d, %Y')].append(info_string)                                       "
   ]
  },
  {
   "cell_type": "code",
   "execution_count": 9,
   "metadata": {},
   "outputs": [
    {
     "data": {
      "text/html": [
       "<h3>Latest Updates</h3>\n",
       "<h4>Modified on: July 4, 2019</h4>\n",
       "<ul>\n",
       "<li><a href=\"https://www.zotero.org/groups/2304790/community-centered_collections/items/itemKey/GPYYMQIG\">What Ever Happened to Project Bamboo?</a></li>\n",
       "<li><a href=\"https://www.zotero.org/groups/2304790/community-centered_collections/items/itemKey/D5MY27D7\">Scholarly primitives: Building institutional infrastructure for humanities e-Science</a></li>\n",
       "<li><a href=\"https://www.zotero.org/groups/2304790/community-centered_collections/items/itemKey/N7DXV9BV\">Scholarly Information Practices in the Online Environment: Themes from the Literature and Implications for Library Service Development</a></li>\n",
       "<li><a href=\"https://www.zotero.org/groups/2304790/community-centered_collections/items/itemKey/J6CWVGMS\">Open, Shareable, Reproducible Workflows for the Digital Humanities: The Case of the 4Humanities.org 'WhatEvery1Says' Project</a></li>\n",
       "</ul>\n",
       "<h4>Modified on: July 3, 2019</h4>\n",
       "<ul>\n",
       "<li><a href=\"https://www.zotero.org/groups/2304790/community-centered_collections/items/itemKey/BBJPFC9L\">Imagining transformative spaces: the personal–political sites of community archives</a></li>\n",
       "</ul>\n",
       "<h4>Modified on: June 26, 2019</h4>\n",
       "<ul>\n",
       "<li><em><a href=\"https://www.zotero.org/groups/2304790/community-centered_collections/items/itemKey/S95JK3FS\">Note: <p>Please tag methodological sources in this library with the tag \"method\"</p>\n",
       "<p> </p></a></em></li>\n",
       "<li><a href=\"https://www.zotero.org/groups/2304790/community-centered_collections/items/itemKey/KG2RLD75\">Participant Observation as a Data Collection Method</a></li>\n",
       "<li><a href=\"https://www.zotero.org/groups/2304790/community-centered_collections/items/itemKey/AG7ZATT5\">Research Guides: Organizing Your Social Sciences Research Paper: Writing Field Notes</a></li>\n",
       "</ul>"
      ],
      "text/plain": [
       "<IPython.core.display.HTML object>"
      ]
     },
     "execution_count": 9,
     "metadata": {},
     "output_type": "execute_result"
    }
   ],
   "source": [
    "from IPython.core.display import HTML\n",
    "\n",
    "email_contents = []\n",
    "email_contents.append(\"###Latest Updates\")\n",
    "\n",
    "for k in entries.keys():\n",
    "    email_contents.append(f\"####Modified on: {k}\")\n",
    "    for v in entries[k]:\n",
    "        email_contents.append(f\"* {v}\")\n",
    "        \n",
    "HTML(markdown.markdown(\"\\n\".join(email_contents)))"
   ]
  }
 ],
 "metadata": {
  "kernelspec": {
   "display_name": "Python 3",
   "language": "python",
   "name": "python3"
  },
  "language_info": {
   "codemirror_mode": {
    "name": "ipython",
    "version": 3
   },
   "file_extension": ".py",
   "mimetype": "text/x-python",
   "name": "python",
   "nbconvert_exporter": "python",
   "pygments_lexer": "ipython3",
   "version": "3.7.3"
  }
 },
 "nbformat": 4,
 "nbformat_minor": 2
}
